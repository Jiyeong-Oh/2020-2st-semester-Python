{
 "cells": [
  {
   "cell_type": "markdown",
   "metadata": {},
   "source": [
    "# Homework 1 - Numpy"
   ]
  },
  {
   "cell_type": "markdown",
   "metadata": {},
   "source": [
    "For all the questions, print the results with a variable of your choice (e.g., Z)"
   ]
  },
  {
   "cell_type": "markdown",
   "metadata": {},
   "source": [
    "#### 1. Import the numpy package under the name `np` "
   ]
  },
  {
   "cell_type": "code",
   "execution_count": 86,
   "metadata": {},
   "outputs": [],
   "source": [
    "import numpy as np"
   ]
  },
  {
   "cell_type": "markdown",
   "metadata": {},
   "source": [
    "#### 2. Create a vector with values ranging from 10 to 49 "
   ]
  },
  {
   "cell_type": "code",
   "execution_count": 87,
   "metadata": {},
   "outputs": [
    {
     "name": "stdout",
     "output_type": "stream",
     "text": [
      "[10 11 12 13 14 15 16 17 18 19 20 21 22 23 24 25 26 27 28 29 30 31 32 33\n",
      " 34 35 36 37 38 39 40 41 42 43 44 45 46 47 48 49]\n"
     ]
    },
    {
     "data": {
      "text/plain": [
       "numpy.ndarray"
      ]
     },
     "execution_count": 87,
     "metadata": {},
     "output_type": "execute_result"
    }
   ],
   "source": [
    "a_vector=np.array(np.arange(10,50))\n",
    "print(a_vector)\n",
    "type(a_vector)"
   ]
  },
  {
   "cell_type": "markdown",
   "metadata": {},
   "source": [
    "#### 3. Reverse a vector (first element becomes last) "
   ]
  },
  {
   "cell_type": "code",
   "execution_count": 88,
   "metadata": {},
   "outputs": [
    {
     "name": "stdout",
     "output_type": "stream",
     "text": [
      "[49 48 47 46 45 44 43 42 41 40 39 38 37 36 35 34 33 32 31 30 29 28 27 26\n",
      " 25 24 23 22 21 20 19 18 17 16 15 14 13 12 11 10]\n"
     ]
    }
   ],
   "source": [
    "# solution2 - without using loop, but simply using slicing (much more efficient)\n",
    "print(a_vector[::-1])"
   ]
  },
  {
   "cell_type": "markdown",
   "metadata": {},
   "source": [
    "#### 4. Create a 3x3 matrix with values ranging from 0 to 8 "
   ]
  },
  {
   "cell_type": "code",
   "execution_count": 89,
   "metadata": {},
   "outputs": [
    {
     "data": {
      "text/plain": [
       "array([[0, 1, 2],\n",
       "       [3, 4, 5],\n",
       "       [6, 7, 8]])"
      ]
     },
     "execution_count": 89,
     "metadata": {},
     "output_type": "execute_result"
    }
   ],
   "source": [
    "np.arange(9).reshape(3,3)"
   ]
  },
  {
   "cell_type": "markdown",
   "metadata": {},
   "source": [
    "#### 5. Find indices of non-zero elements from [1,2,0,0,4,0] "
   ]
  },
  {
   "cell_type": "code",
   "execution_count": 90,
   "metadata": {},
   "outputs": [
    {
     "name": "stdout",
     "output_type": "stream",
     "text": [
      "Found non-zero elements. The indices are  q5 [0, 1, 4]\n"
     ]
    }
   ],
   "source": [
    "q5=np.array([1,2,0,0,4,0])\n",
    "\n",
    "non_zero_elements = np.nonzero(q5)\n",
    "print('Found non-zero elements. The indices are ','q5',[*non_zero_elements[0]])"
   ]
  },
  {
   "cell_type": "markdown",
   "metadata": {},
   "source": [
    "#### 6. Create a 3x3 identity matrix "
   ]
  },
  {
   "cell_type": "code",
   "execution_count": 91,
   "metadata": {},
   "outputs": [
    {
     "name": "stdout",
     "output_type": "stream",
     "text": [
      "[[1. 0. 0.]\n",
      " [0. 1. 0.]\n",
      " [0. 0. 1.]]\n"
     ]
    }
   ],
   "source": [
    "iden33=np.eye(3,3)\n",
    "\n",
    "print(iden33)"
   ]
  },
  {
   "cell_type": "markdown",
   "metadata": {},
   "source": [
    "#### 7. Create a 3x3x3 array with random values "
   ]
  },
  {
   "cell_type": "code",
   "execution_count": 92,
   "metadata": {},
   "outputs": [
    {
     "name": "stdout",
     "output_type": "stream",
     "text": [
      "[[[0.27588427 0.30751188 0.34178869]\n",
      "  [0.60408011 0.52509682 0.18595629]\n",
      "  [0.06980329 0.4745483  0.06818107]]\n",
      "\n",
      " [[0.05078067 0.58595206 0.43464629]\n",
      "  [0.25060128 0.60552496 0.50602549]\n",
      "  [0.02685317 0.16319469 0.84095201]]\n",
      "\n",
      " [[0.06850464 0.66840776 0.74645432]\n",
      "  [0.41674068 0.02000948 0.65414624]\n",
      "  [0.9736612  0.74189354 0.37319191]]]\n"
     ]
    }
   ],
   "source": [
    "q7 = np.random.random((3, 3, 3))\n",
    "print(q7)"
   ]
  },
  {
   "cell_type": "markdown",
   "metadata": {},
   "source": [
    "#### 8. Create a 10x10 array with random values and find the minimum and maximum values "
   ]
  },
  {
   "cell_type": "code",
   "execution_count": 93,
   "metadata": {},
   "outputs": [
    {
     "name": "stdout",
     "output_type": "stream",
     "text": [
      "the minimum value is 0.027042280652201378, and the maximum is 0.9958869843958635\n"
     ]
    }
   ],
   "source": [
    "q8 = np.random.random((10,10))\n",
    "print('the minimum value is {}, and the maximum is {}'.format(q8.min(), q8.max()))"
   ]
  },
  {
   "cell_type": "markdown",
   "metadata": {},
   "source": [
    "#### 9. Create a checkerboard 8x8 matrix using np.array([0,1],[1,0]) and the tile function  "
   ]
  },
  {
   "cell_type": "code",
   "execution_count": 94,
   "metadata": {},
   "outputs": [
    {
     "data": {
      "text/plain": [
       "array([[0, 1, 0, 1, 0, 1, 0, 1],\n",
       "       [1, 0, 1, 0, 1, 0, 1, 0],\n",
       "       [0, 1, 0, 1, 0, 1, 0, 1],\n",
       "       [1, 0, 1, 0, 1, 0, 1, 0],\n",
       "       [0, 1, 0, 1, 0, 1, 0, 1],\n",
       "       [1, 0, 1, 0, 1, 0, 1, 0],\n",
       "       [0, 1, 0, 1, 0, 1, 0, 1],\n",
       "       [1, 0, 1, 0, 1, 0, 1, 0]])"
      ]
     },
     "execution_count": 94,
     "metadata": {},
     "output_type": "execute_result"
    }
   ],
   "source": [
    "q9=np.array([[0,1],[1,0]])\n",
    "np.tile(q9,(4,4))"
   ]
  },
  {
   "cell_type": "markdown",
   "metadata": {},
   "source": [
    "#### 10. Multiply a 5x3 matrix by a 3x2 matrix (real matrix product) "
   ]
  },
  {
   "cell_type": "code",
   "execution_count": 95,
   "metadata": {
    "scrolled": true
   },
   "outputs": [
    {
     "name": "stdout",
     "output_type": "stream",
     "text": [
      "[[0.28828211 1.13327815]\n",
      " [0.12139967 0.45526759]\n",
      " [0.10757691 0.52918242]\n",
      " [0.0550395  0.30474362]\n",
      " [0.1878802  0.71201906]]\n"
     ]
    }
   ],
   "source": [
    "q10= np.dot(np.random.random((5,3)), np.random.random((3,2)))\n",
    "print(q10)"
   ]
  },
  {
   "cell_type": "markdown",
   "metadata": {},
   "source": [
    "#### 11. Create a 5x5 matrix with row values ranging from 0 to 4 using tile function as follows:\n"
   ]
  },
  {
   "cell_type": "raw",
   "metadata": {},
   "source": [
    "array([[0, 1, 2, 3, 4],\n",
    "       [0, 1, 2, 3, 4],\n",
    "       [0, 1, 2, 3, 4],\n",
    "       [0, 1, 2, 3, 4],\n",
    "       [0, 1, 2, 3, 4]])"
   ]
  },
  {
   "cell_type": "code",
   "execution_count": 96,
   "metadata": {},
   "outputs": [
    {
     "name": "stdout",
     "output_type": "stream",
     "text": [
      "[[0 1 2 3 4]\n",
      " [0 1 2 3 4]\n",
      " [0 1 2 3 4]\n",
      " [0 1 2 3 4]\n",
      " [0 1 2 3 4]]\n",
      "[[0 1 2 3 4]\n",
      " [0 1 2 3 4]\n",
      " [0 1 2 3 4]\n",
      " [0 1 2 3 4]\n",
      " [0 1 2 3 4]]\n"
     ]
    }
   ],
   "source": [
    "q11=np.arange(5)\n",
    "\n",
    "print(np.tile(q11,(5,1)))\n",
    "\n",
    "#or\n",
    "\n",
    "print(np.tile(q11,5).reshape(5,5))"
   ]
  },
  {
   "cell_type": "markdown",
   "metadata": {},
   "source": [
    "#### 12. Create a 5x5 matrix with row values ranging from 0 to 4 using broadcasting\n"
   ]
  },
  {
   "cell_type": "code",
   "execution_count": 97,
   "metadata": {},
   "outputs": [
    {
     "name": "stdout",
     "output_type": "stream",
     "text": [
      "[[0. 1. 2. 3. 4.]\n",
      " [0. 1. 2. 3. 4.]\n",
      " [0. 1. 2. 3. 4.]\n",
      " [0. 1. 2. 3. 4.]\n",
      " [0. 1. 2. 3. 4.]]\n"
     ]
    }
   ],
   "source": [
    "q12=np.arange(5)\n",
    "zero_matrix=np.zeros((5,5))\n",
    "\n",
    "broad_matrix = zero_matrix+q12\n",
    "print(broad_matrix)"
   ]
  },
  {
   "cell_type": "markdown",
   "metadata": {},
   "source": [
    "#### 13. Create a random vector of size 10 and sort it "
   ]
  },
  {
   "cell_type": "code",
   "execution_count": 98,
   "metadata": {},
   "outputs": [
    {
     "data": {
      "text/plain": [
       "[0.0032538987577808154,\n",
       " 0.006827623003335281,\n",
       " 0.07179759627295079,\n",
       " 0.07852703280158058,\n",
       " 0.12603533794053567,\n",
       " 0.16727792351043036,\n",
       " 0.4424815269127158,\n",
       " 0.5413151736627555,\n",
       " 0.641725958226309,\n",
       " 0.859615359271129]"
      ]
     },
     "execution_count": 98,
     "metadata": {},
     "output_type": "execute_result"
    }
   ],
   "source": [
    "q13=np.random.random(10)\n",
    "sorted(q13)"
   ]
  },
  {
   "cell_type": "markdown",
   "metadata": {},
   "source": [
    "#### 14. Subtract the mean of each row\n",
    "\n",
    "X = np.random.rand(5,10)"
   ]
  },
  {
   "cell_type": "code",
   "execution_count": 99,
   "metadata": {},
   "outputs": [
    {
     "name": "stdout",
     "output_type": "stream",
     "text": [
      "[[-0.50313375  0.11450965 -0.11485114  0.0747761   0.2493353   0.26102913\n",
      "  -0.04092149  0.11046307 -0.19012874  0.03892186]\n",
      " [ 0.26001294 -0.11234043  0.31118824 -0.51065753 -0.41636854  0.02611472\n",
      "   0.14125976  0.35872387 -0.14587687  0.08794384]\n",
      " [-0.20626826  0.43874213 -0.30783278  0.03289921 -0.24864019 -0.16705876\n",
      "  -0.28947008  0.33796997  0.57134767 -0.16168891]\n",
      " [ 0.39115133  0.21457637  0.13713627  0.16475772 -0.29458863 -0.55500178\n",
      "   0.26817312 -0.35386816 -0.04439043  0.07205419]\n",
      " [ 0.22590441  0.08002157  0.45252341 -0.43575988  0.30267629 -0.42656893\n",
      "   0.2027624   0.28114524 -0.42391461 -0.2587899 ]]\n"
     ]
    }
   ],
   "source": [
    "X=np.random.rand(5,10)\n",
    "subtracted_matrix=(X.T-np.mean(X, axis=1)).T\n",
    "\n",
    "print(subtracted_matrix)"
   ]
  },
  {
   "cell_type": "markdown",
   "metadata": {},
   "source": [
    "#### 15. Create, 10 by 10 multiplication table from 1 to 10"
   ]
  },
  {
   "cell_type": "code",
   "execution_count": 100,
   "metadata": {},
   "outputs": [
    {
     "data": {
      "text/plain": [
       "array([[  1,   2,   3,   4,   5,   6,   7,   8,   9,  10],\n",
       "       [  2,   4,   6,   8,  10,  12,  14,  16,  18,  20],\n",
       "       [  3,   6,   9,  12,  15,  18,  21,  24,  27,  30],\n",
       "       [  4,   8,  12,  16,  20,  24,  28,  32,  36,  40],\n",
       "       [  5,  10,  15,  20,  25,  30,  35,  40,  45,  50],\n",
       "       [  6,  12,  18,  24,  30,  36,  42,  48,  54,  60],\n",
       "       [  7,  14,  21,  28,  35,  42,  49,  56,  63,  70],\n",
       "       [  8,  16,  24,  32,  40,  48,  56,  64,  72,  80],\n",
       "       [  9,  18,  27,  36,  45,  54,  63,  72,  81,  90],\n",
       "       [ 10,  20,  30,  40,  50,  60,  70,  80,  90, 100]])"
      ]
     },
     "execution_count": 100,
     "metadata": {},
     "output_type": "execute_result"
    }
   ],
   "source": [
    "np.arange(1,11)*(np.arange(1,11).reshape(10,1))"
   ]
  },
  {
   "cell_type": "code",
   "execution_count": 101,
   "metadata": {},
   "outputs": [
    {
     "name": "stdout",
     "output_type": "stream",
     "text": [
      "[[  1   2   3   4   5   6   7   8   9  10]\n",
      " [  2   4   6   8  10  12  14  16  18  20]\n",
      " [  3   6   9  12  15  18  21  24  27  30]\n",
      " [  4   8  12  16  20  24  28  32  36  40]\n",
      " [  5  10  15  20  25  30  35  40  45  50]\n",
      " [  6  12  18  24  30  36  42  48  54  60]\n",
      " [  7  14  21  28  35  42  49  56  63  70]\n",
      " [  8  16  24  32  40  48  56  64  72  80]\n",
      " [  9  18  27  36  45  54  63  72  81  90]\n",
      " [ 10  20  30  40  50  60  70  80  90 100]]\n"
     ]
    }
   ],
   "source": [
    "#another solution using 'newaxis' method\n",
    "a = np.arange(1,11)\n",
    "b = a[:, np.newaxis]\n",
    "print(a*b)"
   ]
  },
  {
   "cell_type": "markdown",
   "metadata": {},
   "source": [
    "#### 16. How to get the diagonal of a dot product? \n",
    "\n",
    "A = np.random.uniform(0,1,(5,5))\n",
    "B = np.random.uniform(0,1,(5,5))"
   ]
  },
  {
   "cell_type": "code",
   "execution_count": 102,
   "metadata": {},
   "outputs": [
    {
     "data": {
      "text/plain": [
       "array([1.32862874, 0.57580171, 1.46594751, 1.858579  , 1.00289937])"
      ]
     },
     "execution_count": 102,
     "metadata": {},
     "output_type": "execute_result"
    }
   ],
   "source": [
    "A = np.random.uniform(0,1,(5,5))\n",
    "B = np.random.uniform(0,1,(5,5))\n",
    "np.diag(np.dot(A, B))"
   ]
  },
  {
   "cell_type": "markdown",
   "metadata": {},
   "source": [
    "#### 17. Consider the vector [1, 2, 3, 4, 5], how to build a new vector with 3 consecutive zeros interleaved between each value?"
   ]
  },
  {
   "cell_type": "code",
   "execution_count": 103,
   "metadata": {},
   "outputs": [
    {
     "name": "stdout",
     "output_type": "stream",
     "text": [
      "[1. 0. 0. 0. 2. 0. 0. 0. 3. 0. 0. 0. 4. 0. 0. 0. 5.]\n"
     ]
    }
   ],
   "source": [
    "q17 = np.array([1, 2, 3, 4, 5])\n",
    "\n",
    "#create a vector made out of zeros, which length is 3 consecutive zeros interleaved between each value of q17 + q17\n",
    "zeros_vector=np.zeros(3*(len(q17)-1)+len(q17))\n",
    "\n",
    "#replacing zeros with q17\n",
    "zeros_vector[::4] = q17\n",
    "\n",
    "print(zeros_vector)"
   ]
  },
  {
   "cell_type": "markdown",
   "metadata": {},
   "source": [
    "#### 18. Consider two arrays A and B of shape (8,3) and (2,2). How to find rows of A that contain elements of each row of B regardless of the order of the elements in B?\n",
    "\n",
    "A = np.random.randint(0,5,(8,3))\n",
    "B = np.random.randint(0,5,(2,2))"
   ]
  },
  {
   "cell_type": "code",
   "execution_count": 104,
   "metadata": {},
   "outputs": [],
   "source": [
    "#A = np.random.randint(0,5,(8,3))\n",
    "#B = np.random.randint(0,5,(2,2))\n",
    "# skipped the question"
   ]
  },
  {
   "cell_type": "markdown",
   "metadata": {},
   "source": [
    "#### 19. How to swap two rows of an array? Generate an array from 0 to 24, and reshape it 5 by 5 and swap first two rows of the array"
   ]
  },
  {
   "cell_type": "code",
   "execution_count": 105,
   "metadata": {},
   "outputs": [
    {
     "name": "stdout",
     "output_type": "stream",
     "text": [
      "original array:\n",
      " [[ 0  1  2  3  4]\n",
      " [ 5  6  7  8  9]\n",
      " [10 11 12 13 14]\n",
      " [15 16 17 18 19]\n",
      " [20 21 22 23 24]]\n",
      "changed array:\n",
      " [[ 5  6  7  8  9]\n",
      " [ 0  1  2  3  4]\n",
      " [10 11 12 13 14]\n",
      " [15 16 17 18 19]\n",
      " [20 21 22 23 24]]\n"
     ]
    }
   ],
   "source": [
    "q19 = np.arange(25).reshape(5,5)\n",
    "print('original array:\\n',q19)\n",
    "\n",
    "q19[[0,1]] = q19[[1,0]]\n",
    "print('changed array:\\n',q19)"
   ]
  },
  {
   "cell_type": "markdown",
   "metadata": {},
   "source": [
    "#### 20. How to find the most frequent value in an array? \n",
    "\n",
    "Z = np.random.randint(0,10,50). hint: np.bincount, np.argmax"
   ]
  },
  {
   "cell_type": "code",
   "execution_count": 106,
   "metadata": {},
   "outputs": [
    {
     "name": "stdout",
     "output_type": "stream",
     "text": [
      "[5 0 1 7 1 0 5 6 8 1 6 3 1 5 7 9 4 1 2 4 7 8 0 8 5 1 9 5 7 2 5 3 5 9 8 6 6\n",
      " 8 0 8 9 0 0 0 0 2 5 7 9 0]\n",
      "The most frequent value in this array is 0\n"
     ]
    }
   ],
   "source": [
    "Z = np.random.randint(0,10,50)\n",
    "print(Z)\n",
    "\n",
    "print('The most frequent value in this array is {}'.format(np.bincount(Z).argmax()))"
   ]
  },
  {
   "cell_type": "markdown",
   "metadata": {},
   "source": [
    "#### 21. How to get the n largest values of an array?\n",
    "\n",
    "start with \n",
    "Z = np.arange(10000);\n",
    "np.random.shuffle(Z)\n",
    ", Hint: np.argsort"
   ]
  },
  {
   "cell_type": "code",
   "execution_count": 107,
   "metadata": {},
   "outputs": [
    {
     "name": "stdout",
     "output_type": "stream",
     "text": [
      "[2595 9229 2333 ... 7826 5776 7911]\n",
      "the 3 largest values of array Z are [9997 9998 9999]\n"
     ]
    }
   ],
   "source": [
    "n=3 #n is an arbitrary number;\n",
    "\n",
    "Z = np.arange(10000)\n",
    "np.random.shuffle(Z)\n",
    "print(Z)\n",
    "\n",
    "indices_from_the_smallest = np.argsort(Z)\n",
    "print('the {} largest values of array Z are {}'.format(n,Z[indices_from_the_smallest[-n:]]))"
   ]
  },
  {
   "cell_type": "markdown",
   "metadata": {},
   "source": [
    "#### 22. Given a two dimensional array, how to extract unique rows? \n",
    "\n",
    "Hint: np.unique"
   ]
  },
  {
   "cell_type": "code",
   "execution_count": 108,
   "metadata": {},
   "outputs": [
    {
     "data": {
      "text/plain": [
       "array([[3, 3],\n",
       "       [3, 4],\n",
       "       [3, 5],\n",
       "       [4, 3],\n",
       "       [4, 4],\n",
       "       [4, 5],\n",
       "       [5, 3],\n",
       "       [5, 4],\n",
       "       [5, 5]])"
      ]
     },
     "execution_count": 108,
     "metadata": {},
     "output_type": "execute_result"
    }
   ],
   "source": [
    "q22= np.random.randint(3, 6,(1000,2))\n",
    "np.unique(q22, axis = 0)"
   ]
  },
  {
   "cell_type": "markdown",
   "metadata": {},
   "source": [
    "#### 23. How to compute averages using a sliding window over an array? \n",
    "\n",
    "make a function with two arguments, arry and size of the sliding window, def moving_avg(arr, n)\n"
   ]
  },
  {
   "cell_type": "code",
   "execution_count": 109,
   "metadata": {},
   "outputs": [
    {
     "name": "stdout",
     "output_type": "stream",
     "text": [
      "[ 1  2  3  4  5  6  7  8  9 10]\n"
     ]
    },
    {
     "data": {
      "text/plain": [
       "[2.0, 3.0, 4.0, 5.0, 6.0, 7.0, 8.0, 9.0]"
      ]
     },
     "execution_count": 109,
     "metadata": {},
     "output_type": "execute_result"
    }
   ],
   "source": [
    "def moving_avg(arr,n):\n",
    "    windows=[]\n",
    "    averages=[]\n",
    "    for i in range(len(arr)-(n-1)):\n",
    "        windows.append(arr[i:i+n])\n",
    "        averages.append(windows[i].mean())\n",
    "    return averages\n",
    "\n",
    "\n",
    "\n",
    "one_to_ten=np.arange(1,11)\n",
    "print(one_to_ten)\n",
    "\n",
    "moving_avg(one_to_ten,n=3)"
   ]
  },
  {
   "cell_type": "markdown",
   "metadata": {},
   "source": [
    "#### 24. Find the indices of elements from 4 by 4 random matrix (0-1) which are larger than 0.5\n",
    "\n",
    "Print a list of tuples indicating the index for row and column\n"
   ]
  },
  {
   "cell_type": "code",
   "execution_count": 110,
   "metadata": {},
   "outputs": [
    {
     "name": "stdout",
     "output_type": "stream",
     "text": [
      "[[0.11795557 0.68279698 0.21381364 0.11476022]\n",
      " [0.78342981 0.52189386 0.87348794 0.39251956]\n",
      " [0.90942362 0.55271971 0.42960154 0.43347179]\n",
      " [0.33787366 0.94468349 0.80952829 0.60712477]]\n",
      "(array([0, 1, 1, 1, 2, 2, 3, 3, 3], dtype=int64), array([1, 0, 1, 2, 0, 1, 1, 2, 3], dtype=int64))\n",
      "[(0, 1), (1, 0), (1, 1), (1, 2), (2, 0), (2, 1), (3, 1), (3, 2), (3, 3)]\n"
     ]
    }
   ],
   "source": [
    "q24=np.random.random((4,4))\n",
    "print(q24)\n",
    "\n",
    "larger_than=(q24>0.5)\n",
    "print(larger_than.nonzero())\n",
    "\n",
    "print([*zip(larger_than.nonzero()[0],larger_than.nonzero()[1])])"
   ]
  },
  {
   "cell_type": "markdown",
   "metadata": {},
   "source": [
    "#### 25. Write a function returning distance between two points"
   ]
  },
  {
   "cell_type": "raw",
   "metadata": {},
   "source": [
    "Test the function to check whether function is working correctly\n",
    "Hint: There are two arguments of function indicating two points"
   ]
  },
  {
   "cell_type": "code",
   "execution_count": 111,
   "metadata": {},
   "outputs": [
    {
     "name": "stdout",
     "output_type": "stream",
     "text": [
      "[[ 98]\n",
      " [-11]]\n",
      "[[-98]\n",
      " [-17]]\n",
      "196.09181522949905\n"
     ]
    }
   ],
   "source": [
    "def distance(point1, point2):\n",
    "    return (np.sqrt(np.sum((p1-p2)**2)))\n",
    "\n",
    "#p1 and p2 are array which are consist of x and y coordinates respectively.(x,y are arbitrary integers between -100 and 100)\n",
    "p1 = np.random.randint(-100,100,(2,1))\n",
    "p2 = np.random.randint(-100,100,(2,1))\n",
    "\n",
    "print(p1)\n",
    "print(p2)\n",
    "\n",
    "\n",
    "print(distance(p1, p2))"
   ]
  },
  {
   "cell_type": "code",
   "execution_count": null,
   "metadata": {},
   "outputs": [],
   "source": []
  }
 ],
 "metadata": {
  "kernelspec": {
   "display_name": "Python 3",
   "language": "python",
   "name": "python3"
  },
  "language_info": {
   "codemirror_mode": {
    "name": "ipython",
    "version": 3
   },
   "file_extension": ".py",
   "mimetype": "text/x-python",
   "name": "python",
   "nbconvert_exporter": "python",
   "pygments_lexer": "ipython3",
   "version": "3.8.5"
  }
 },
 "nbformat": 4,
 "nbformat_minor": 4
}
