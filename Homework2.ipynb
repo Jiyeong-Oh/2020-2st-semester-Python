{
 "cells": [
  {
   "cell_type": "code",
   "execution_count": 35,
   "metadata": {},
   "outputs": [],
   "source": [
    "def res1_probability(filename):\n",
    "    '''\n",
    "    pseudo description of the function\n",
    "    1. matching conditions and response type of a subject\n",
    "    2. returning a Series which includes the number of each response type\n",
    "    '''\n",
    "    old=filename['Task_Type']==0\n",
    "    new=filename['Task_Type']==1\n",
    "    conditionlist = [\n",
    "        (old) & (filename['Res1']==1),\n",
    "        (old) & (filename['Res1']==2),\n",
    "        (old) & (filename['Res1']==3),\n",
    "        (old) & (filename['Res1']==4),\n",
    "        (new) & (filename['Res1']==1),\n",
    "        (new) & (filename['Res1']==2),\n",
    "        (new) & (filename['Res1']==3),\n",
    "        (new) & (filename['Res1']==4)]\n",
    "    choicelist = ['HIT-HC', 'HIT-LC', 'MISS-LC', 'MISS-HC', 'FA-HC', 'FA-LC', 'CR-LC', 'CR-HC']\n",
    "    filename['Res_Type'] = np.select(conditionlist, choicelist)\n",
    "    old1=filename[filename['Task_Type']==0]\n",
    "    new1=filename[filename['Task_Type']==1]\n",
    "    type_probability_old = (old1.groupby(['Res_Type'])['Trial'].count())/len(old1)\n",
    "    type_probability_new = (new1.groupby(['Res_Type'])['Trial'].count())/len(new1)\n",
    "    type_probability=pd.concat([type_probability_old,type_probability_new])\n",
    "\n",
    "    return type_probability"
   ]
  },
  {
   "cell_type": "code",
   "execution_count": 36,
   "metadata": {},
   "outputs": [
    {
     "data": {
      "image/png": "[encoded data removed]",
      "text/plain": [
       "<Figure size 432x288 with 1 Axes>"
      ]
     },
     "metadata": {
      "needs_background": "light"
     },
     "output_type": "display_data"
    }
   ],
   "source": [
    "import pandas as pd\n",
    "import numpy as np\n",
    "import os\n",
    "\n",
    "#Create an empty dataframe for making response type chart of 31 subjects\n",
    "res_rate = pd.DataFrame(index=[\n",
    "    'HIT-HC', 'HIT-LC', 'MISS-LC', 'MISS-HC','FA-HC', 'FA-LC', 'CR-LC', 'CR-HC'])\n",
    "filelist=os.listdir('./DMdata')\n",
    "\n",
    "for i in filelist:\n",
    "    '''\n",
    "    Addig data for each subject into the empty dataframe above\n",
    "    '''\n",
    "    file_path = pd.read_csv('./DMdata/{}/{}_test.txt'.format(i,i), sep='\\t', index_col=False)\n",
    "    res=res1_probability(file_path)\n",
    "    res_rate['{}_test'.format(i)]=res\n",
    "res_rate=res_rate.fillna(0).T\n",
    "\n",
    "# Visualizing the created dataframe like following;\n",
    "import seaborn as sns\n",
    "import matplotlib.pyplot as plt\n",
    "\n",
    "sns.barplot(data=res_rate)\n",
    "plt.ylabel('Response rate')\n",
    "plt.show()"
   ]
  },
  {
   "cell_type": "code",
   "execution_count": 37,
   "metadata": {},
   "outputs": [
    {
     "data": {
      "image/png": "[encoded data removed]",
      "text/plain": [
       "<Figure size 432x288 with 1 Axes>"
      ]
     },
     "metadata": {
      "needs_background": "light"
     },
     "output_type": "display_data"
    }
   ],
   "source": [
    "#Or, for adding legend(old and new) to the plot, you can manually type the error range\n",
    "#Like following;\n",
    "res_rate=res_rate.fillna(0).T\n",
    "res_rate['old_or_new']=['old','old','old','old','new','new','new','new']\n",
    "a = 1.96* res_rate.iloc[:,:31].std(axis=1)/31**(1/2)\n",
    "sns.barplot(res_rate.index, res_rate.iloc[:,:31].mean(axis=1), yerr=a, hue=res_rate['old_or_new'])\n",
    "plt.ylabel('Response rate')\n",
    "plt.show()"
   ]
  },
  {
   "cell_type": "code",
   "execution_count": 38,
   "metadata": {},
   "outputs": [],
   "source": [
    "def res2_probability(studyfile, testfile_original):\n",
    "    '''\n",
    "    1. Cleaning the testfile of an subject\n",
    "    2. Merging the cleaned dataset with studyfile for \n",
    "    3. Cleaning the merged dataset, matching the condition and the location score\n",
    "    (correct or wrong)\n",
    "    4. Return Series of Location score, grouped by its location score and response type.\n",
    "    '''\n",
    "    testfile=testfile_original.copy()\n",
    "    only_old = testfile.drop(testfile.loc[testfile['Res2']==0].index)\n",
    "    only_old = pd.merge(studyfile, only_old, left_on= 'ObjID', right_on= 'Object_ID', how='left')\n",
    "    only_old = only_old.drop(only_old.loc[only_old['Res2']==5].index)\n",
    "    \n",
    "    conditionlist = [\n",
    "        (only_old['LocID']!=only_old['Res2']),\n",
    "        (only_old['LocID']==only_old['Res2'])]\n",
    "    choicelist = ['wrong', 'correct']\n",
    "    only_old['Location_score'] = np.select(conditionlist, choicelist)\n",
    "    \n",
    "    only_old=only_old[['Location_score', 'Res_Type']]\n",
    "    loc_probability = only_old.groupby(\n",
    "        ['Location_score','Res_Type'])['Location_score'].count()/only_old.groupby(\n",
    "        'Res_Type')['Location_score'].count()\n",
    "    return loc_probability"
   ]
  },
  {
   "cell_type": "code",
   "execution_count": 39,
   "metadata": {},
   "outputs": [],
   "source": [
    "import pandas as pd\n",
    "import numpy as np\n",
    "import os\n",
    "\n",
    "#Create an empty dataframe for next progress\n",
    "loc_rate = pd.DataFrame(index=[[\n",
    "    'correct','correct','correct','correct','wrong','wrong','wrong','wrong'],[\n",
    "    'HIT-HC','HIT-LC','MISS-LC','MISS-HC','HIT-HC','HIT-LC','MISS-LC','MISS-HC']])\n",
    "\n",
    "filelist=os.listdir('./DMdata')\n",
    "for i in filelist:\n",
    "    '''\n",
    "    Adjust the function to 31 subjects and put those data into the empty dataframe\n",
    "    '''\n",
    "    testing = pd.read_csv('./DMdata/{}/{}_test.txt'.format(i,i), sep='\\t', index_col=False)\n",
    "    studying = pd.read_csv('./DMdata/{}/{}_study.txt'.format(i,i), sep='\\t', index_col=False)\n",
    "    res1_probability(testing)\n",
    "    res2=res2_probability(studying, testing)    \n",
    "    loc_rate['{}_test'.format(i)]=res2\n",
    "\n",
    "# Cleaning for better plot and renaming\n",
    "loc_rate=loc_rate.fillna(0).T['correct']\n",
    "loc_rate=loc_rate.rename({'HIT-HC':'HIT-HC&SRC','HIT-LC':'HIT-LC&SRC','MISS-LC':'MISS-LC&SRC','MISS-HC':'MISS-HC&SRC'},axis='columns')"
   ]
  },
  {
   "cell_type": "code",
   "execution_count": 40,
   "metadata": {},
   "outputs": [
    {
     "data": {
      "image/png": "[encoded data removed]",
      "text/plain": [
       "<Figure size 432x288 with 1 Axes>"
      ]
     },
     "metadata": {
      "needs_background": "light"
     },
     "output_type": "display_data"
    }
   ],
   "source": [
    "#Plotting\n",
    "sns.barplot(data=loc_rate)\n",
    "plt.ylabel('Source memory correct rate')\n",
    "plt.axhline(y=0.25, color='black', linestyle='--')\n",
    "plt.show()"
   ]
  }
 ],
 "metadata": {
  "kernelspec": {
   "display_name": "Python 3",
   "language": "python",
   "name": "python3"
  },
  "language_info": {
   "codemirror_mode": {
    "name": "ipython",
    "version": 3
   },
   "file_extension": ".py",
   "mimetype": "text/x-python",
   "name": "python",
   "nbconvert_exporter": "python",
   "pygments_lexer": "ipython3",
   "version": "3.8.3"
  }
 },
 "nbformat": 4,
 "nbformat_minor": 4
}
